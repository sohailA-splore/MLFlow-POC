{
 "cells": [
  {
   "cell_type": "code",
   "execution_count": 89,
   "id": "6b6f611e",
   "metadata": {},
   "outputs": [],
   "source": [
    "from sentence_transformers import SentenceTransformer\n",
    "\n",
    "import mlflow\n",
    "from mlflow.tracking.client import MlflowClient\n",
    "from mlflow.pyfunc import load_model"
   ]
  },
  {
   "cell_type": "markdown",
   "id": "ced7bcea",
   "metadata": {},
   "source": [
    "# Constants"
   ]
  },
  {
   "cell_type": "code",
   "execution_count": 90,
   "id": "726a666a",
   "metadata": {},
   "outputs": [],
   "source": [
    "MLFLOW_TRACKING_URI=\"http://127.0.0.1:5000\"\n",
    "\n",
    "MLFLOW_EXPERIMENT_NAME=\"finetuned_sent_bert_v1\"\n",
    "\n",
    "MODEL_NAME = \"paraphrase-mpnet-base-v2\""
   ]
  },
  {
   "cell_type": "markdown",
   "id": "332619a5",
   "metadata": {},
   "source": [
    "# Set MLFlow related values before training"
   ]
  },
  {
   "cell_type": "code",
   "execution_count": 91,
   "id": "40c91f28",
   "metadata": {},
   "outputs": [
    {
     "name": "stderr",
     "output_type": "stream",
     "text": [
      "2023/07/12 09:32:50 INFO mlflow.tracking.fluent: Experiment with name 'finetuned_sent_bert_v1' does not exist. Creating a new experiment.\n"
     ]
    }
   ],
   "source": [
    "mlflow_experiment = None\n",
    "\n",
    "# Set the Endpoint for MLFlow\n",
    "mlflow.set_tracking_uri(MLFLOW_TRACKING_URI)\n",
    "\n",
    "# Try to fetch the experiment via name, None will be returned if the name does not exist\n",
    "# mlflow_experiment = mlflow.get_experiment_by_name(MLFLOW_EXPERIMENT_NAME)\n",
    "\n",
    "# Create experiment if does not already exist\n",
    "# mlflow_experiment_id = mlflow.create_experiment(MLFLOW_EXPERIMENT_NAME)\n",
    "mlflow_experiment = mlflow.set_experiment(MLFLOW_EXPERIMENT_NAME)"
   ]
  },
  {
   "cell_type": "markdown",
   "id": "ca58962b",
   "metadata": {},
   "source": [
    "# Track the fine-tuning process for sentence-transformer model under experiment\n",
    "\n",
    "[MLFlow Automatic Logging](https://mlflow.org/docs/latest/tracking.html#automatic-logging:~:text=for%20each%20run-,Automatic%20Logging,-Automatic%20logging%20allows)"
   ]
  },
  {
   "cell_type": "code",
   "execution_count": 92,
   "id": "b066f74e",
   "metadata": {},
   "outputs": [
    {
     "name": "stderr",
     "output_type": "stream",
     "text": [
      "2023/07/12 09:33:07 WARNING mlflow.utils.autologging_utils: You are using an unsupported version of sklearn. If you encounter errors during autologging, try upgrading / downgrading sklearn to a supported version, or try upgrading MLflow.\n",
      "2023/07/12 09:33:07 INFO mlflow.tracking.fluent: Autologging successfully enabled for sklearn.\n",
      "2023/07/12 09:33:07 WARNING mlflow.utils.autologging_utils: You are using an unsupported version of transformers. If you encounter errors during autologging, try upgrading / downgrading transformers to a supported version, or try upgrading MLflow.\n",
      "2023/07/12 09:33:07 INFO mlflow.tracking.fluent: Autologging successfully enabled for transformers.\n"
     ]
    },
    {
     "name": "stdout",
     "output_type": "stream",
     "text": [
      "Fine-tuning started\n",
      "huggingface/tokenizers: The current process just got forked, after parallelism has already been used. Disabling parallelism to avoid deadlocks...\n",
      "To disable this warning, you can either:\n",
      "\t- Avoid using `tokenizers` before the fork if possible\n",
      "\t- Explicitly set the environment variable TOKENIZERS_PARALLELISM=(true | false)\n"
     ]
    },
    {
     "name": "stderr",
     "output_type": "stream",
     "text": [
      "Successfully registered model 'paraphrase-mpnet-base-v2'.\n",
      "2023/07/12 09:33:19 INFO mlflow.tracking._model_registry.client: Waiting up to 300 seconds for model version to finish creation. Model name: paraphrase-mpnet-base-v2, version 1\n"
     ]
    },
    {
     "name": "stdout",
     "output_type": "stream",
     "text": [
      "Fine-tuning completed!\n"
     ]
    },
    {
     "name": "stderr",
     "output_type": "stream",
     "text": [
      "Created version '1' of model 'paraphrase-mpnet-base-v2'.\n"
     ]
    }
   ],
   "source": [
    "fine_tuned_model = None\n",
    "mlflow_run_id = None\n",
    "\n",
    "\n",
    "model = SentenceTransformer(MODEL_NAME)\n",
    "\n",
    "# Automated logging allows you to log metrics, parameters, and models without the need for explicit log statements. \n",
    "# Refer to the link mentioned above to view the list of Libraries supported\n",
    "\n",
    "    \n",
    "\n",
    "mlflow.autolog(log_input_examples=False, log_model_signatures=True, \n",
    "               log_models=False, log_datasets=True, disable=False, \n",
    "               exclusive=False, disable_for_unsupported_versions=False, \n",
    "               silent=False)\n",
    "\n",
    "with mlflow.start_run(experiment_id=mlflow_experiment.experiment_id) as run:\n",
    "    print(\"Fine-tuning started\")\n",
    "    ## Perform Finetuning\n",
    "    #\n",
    "    # X_train, Y_train = load_train_dataset()\n",
    "    # perform_fine_tuning(model, X_train)\n",
    "    mlflow.log_metric(\"RMSE\", \"0.34\")\n",
    "    mlflow.log_param(\"lr\", \"0.1\")\n",
    "    \n",
    "    mlflow_run_id = run.info.run_id\n",
    "    \n",
    "    # Log and Register the model in MLFlow registry\n",
    "    \n",
    "    mlflow.sentence_transformers.log_model(model=model, artifact_path=f\"models/{MODEL_NAME}\", registered_model_name=MODEL_NAME)\n",
    "    print(\"Fine-tuning completed!\")\n"
   ]
  },
  {
   "cell_type": "markdown",
   "id": "49dc1a93",
   "metadata": {},
   "source": [
    "# Fetch the models from Model Registry"
   ]
  },
  {
   "cell_type": "code",
   "execution_count": 98,
   "id": "e5f7cb34",
   "metadata": {},
   "outputs": [
    {
     "name": "stdout",
     "output_type": "stream",
     "text": [
      "<RegisteredModel: aliases={}, creation_timestamp=1689134599584, description='', last_updated_timestamp=1689134599605, latest_versions=[<ModelVersion: aliases=[], creation_timestamp=1689134599605, current_stage='None', description='', last_updated_timestamp=1689134599605, name='paraphrase-mpnet-base-v2', run_id='411153fefc7848ecb07b9738f898dd54', run_link='', source='mlflow-artifacts:/965049582430110854/411153fefc7848ecb07b9738f898dd54/artifacts/models/paraphrase-mpnet-base-v2', status='READY', status_message='', tags={}, user_id='', version='1'>], name='paraphrase-mpnet-base-v2', tags={}>\n"
     ]
    },
    {
     "name": "stderr",
     "output_type": "stream",
     "text": [
      "2023/07/12 09:35:14 INFO mlflow.sentence_transformers: 'models:/paraphrase-mpnet-base-v2/1' resolved as 'mlflow-artifacts:/965049582430110854/411153fefc7848ecb07b9738f898dd54/artifacts/models/paraphrase-mpnet-base-v2'\n"
     ]
    },
    {
     "name": "stdout",
     "output_type": "stream",
     "text": [
      "Embeddings generated via paraphrase-mpnet-base-v2:v_1\n",
      "[[ 0.14321968 -0.23929456 -0.0517806  ...  0.06134125  0.08304735\n",
      "  -0.16086945]\n",
      " [ 0.08879659 -0.11505436 -0.02012645 ...  0.02235661 -0.1832357\n",
      "  -0.13690618]]\n"
     ]
    }
   ],
   "source": [
    "sentences = [\"This is an example sentence\", \"Each sentence is converted\"]\n",
    "\n",
    "def fetch_registered_model_by_name(name):\n",
    "    for reg_model_info in mlflow.search_registered_models(filter_string=f\"name LIKE '{name}%'\"):\n",
    "        print(reg_model_info)\n",
    "        for model_version in reg_model_info.latest_versions:\n",
    "            registered_model = mlflow.sentence_transformers.load_model(f'models:/{reg_model_info.name}/{model_version.version}')\n",
    "            embeddings = registered_model_v1.encode(sentences)\n",
    "            print(f\"Embeddings generated via {reg_model_info.name}:v_{model_version.version}\\n{embeddings}\")\n",
    "\n",
    "fetch_registered_model_by_name(\"para\")"
   ]
  },
  {
   "cell_type": "code",
   "execution_count": 100,
   "id": "1d07ebf4",
   "metadata": {},
   "outputs": [
    {
     "data": {
      "text/plain": [
       "<ModelVersion: aliases=[], creation_timestamp=1689134599605, current_stage='Staging', description='', last_updated_timestamp=1689134749272, name='paraphrase-mpnet-base-v2', run_id='411153fefc7848ecb07b9738f898dd54', run_link='', source='mlflow-artifacts:/965049582430110854/411153fefc7848ecb07b9738f898dd54/artifacts/models/paraphrase-mpnet-base-v2', status='READY', status_message='', tags={}, user_id='', version='1'>"
      ]
     },
     "execution_count": 100,
     "metadata": {},
     "output_type": "execute_result"
    }
   ],
   "source": [
    "mlflow.MlflowClient().transition_model_version_stage(name=MODEL_NAME, version=1, stage=\"Staging\")"
   ]
  },
  {
   "cell_type": "code",
   "execution_count": 101,
   "id": "2658ad04",
   "metadata": {},
   "outputs": [],
   "source": [
    "mlflow.MlflowClient().delete_model_version(MODEL_NAME, 1)"
   ]
  }
 ],
 "metadata": {
  "kernelspec": {
   "display_name": "Python 3 (ipykernel)",
   "language": "python",
   "name": "python3"
  },
  "language_info": {
   "codemirror_mode": {
    "name": "ipython",
    "version": 3
   },
   "file_extension": ".py",
   "mimetype": "text/x-python",
   "name": "python",
   "nbconvert_exporter": "python",
   "pygments_lexer": "ipython3",
   "version": "3.9.6"
  }
 },
 "nbformat": 4,
 "nbformat_minor": 5
}
